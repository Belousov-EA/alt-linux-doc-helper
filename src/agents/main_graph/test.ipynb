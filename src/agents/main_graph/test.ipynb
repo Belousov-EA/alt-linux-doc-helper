{
 "cells": [
  {
   "cell_type": "code",
   "execution_count": 2,
   "metadata": {},
   "outputs": [],
   "source": [
    "import sys\n",
    "\n",
    "sys.path.append(\"../../..\")"
   ]
  },
  {
   "cell_type": "code",
   "execution_count": 3,
   "metadata": {},
   "outputs": [],
   "source": [
    "from main_graph import MainGraphFabric\n",
    "\n",
    "graph = MainGraphFabric()\n",
    "graph.compile()"
   ]
  },
  {
   "cell_type": "code",
   "execution_count": 4,
   "metadata": {},
   "outputs": [
    {
     "data": {
      "text/plain": [
       "'It appears that there might be some confusion with the provided documentation as it doesn\\'t directly address how to access or find the console. However, on a base-linux system (assuming it\\'s similar to typical Linux distributions), you would usually access the terminal or console by:\\n\\n1. **Using a Keyboard Shortcut**: Press `Ctrl + Alt + T` to open the Terminal application.\\n2. **Through GUI Menu**: Navigate through the applications menu; typically, there is an entry for \"Terminal\" or \"Console\" under the System Tools section.\\n\\nIf you are encountering issues finding it and based-linux seems unhelpful in this context per provided documentation, consider checking if your system is functioning correctly or if any graphical user interface (GUI) settings have been altered. If the problem persists, a more detailed investigation might be needed to pinpoint the exact issue.'"
      ]
     },
     "execution_count": 4,
     "metadata": {},
     "output_type": "execute_result"
    }
   ],
   "source": [
    "graph.infer(\"I can't find console\")"
   ]
  },
  {
   "cell_type": "code",
   "execution_count": 8,
   "metadata": {},
   "outputs": [],
   "source": [
    "from langchain_core.messages import HumanMessage\n",
    "\n",
    "message = HumanMessage(content=\"I can't find console\")\n",
    "res = graph.invoke({\"messages\": message})"
   ]
  },
  {
   "cell_type": "code",
   "execution_count": null,
   "metadata": {},
   "outputs": [
    {
     "data": {
      "text/plain": [
       "'It seems there might be some confusion or perhaps you\\'ve been given an incomplete piece of information as the documentation provided does not directly address finding the console. Typically, on Base-Linux (or any Linux distribution), you can access the terminal or console by using a keyboard shortcut such as `Ctrl + Alt + T` or by searching for \"Terminal\" in your application menu.\\n\\nIf this doesn\\'t work or if there are specific issues preventing you from accessing it, feel free to provide more details so I can offer further assistance. Given the provided documentation options, they do not directly answer how to find a console but rather suggest alternative operating systems which may not be applicable to your question about Base-Linux itself.'"
      ]
     },
     "execution_count": 11,
     "metadata": {},
     "output_type": "execute_result"
    }
   ],
   "source": [
    "res[\"answer\"].content"
   ]
  }
 ],
 "metadata": {
  "kernelspec": {
   "display_name": ".venv",
   "language": "python",
   "name": "python3"
  },
  "language_info": {
   "codemirror_mode": {
    "name": "ipython",
    "version": 3
   },
   "file_extension": ".py",
   "mimetype": "text/x-python",
   "name": "python",
   "nbconvert_exporter": "python",
   "pygments_lexer": "ipython3",
   "version": "3.12.8"
  }
 },
 "nbformat": 4,
 "nbformat_minor": 2
}
